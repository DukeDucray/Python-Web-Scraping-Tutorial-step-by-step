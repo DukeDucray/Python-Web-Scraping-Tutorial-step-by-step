{
 "cells": [
  {
   "cell_type": "code",
   "execution_count": null,
   "id": "6dc43a8c",
   "metadata": {},
   "outputs": [],
   "source": [
    "import requests\n",
    "from bs4 import BeautifulSoup\n",
    "print(\"import done\")"
   ]
  },
  {
   "cell_type": "code",
   "execution_count": 13,
   "id": "d3b7218a",
   "metadata": {},
   "outputs": [],
   "source": [
    "url = \"https://books.toscrape.com/index.html\"\n",
    "response = requests.get(url)\n",
    "html= response.content\n",
    "scraped = BeautifulSoup(html, 'html.parser')"
   ]
  },
  {
   "cell_type": "code",
   "execution_count": 17,
   "id": "e8824017",
   "metadata": {},
   "outputs": [
    {
     "data": {
      "text/plain": [
       "'All products | Books to Scrape - Sandbox'"
      ]
     },
     "execution_count": 17,
     "metadata": {},
     "output_type": "execute_result"
    }
   ],
   "source": [
    "scraped.title.text.strip()"
   ]
  },
  {
   "cell_type": "code",
   "execution_count": 24,
   "id": "5d9f8499",
   "metadata": {},
   "outputs": [
    {
     "data": {
      "text/plain": [
       "'A Light in the ...'"
      ]
     },
     "execution_count": 24,
     "metadata": {},
     "output_type": "execute_result"
    }
   ],
   "source": [
    "scraped.find(\"article\", class_=\"product_pod\").h3.a.text"
   ]
  },
  {
   "cell_type": "code",
   "execution_count": 27,
   "id": "cab47a40",
   "metadata": {},
   "outputs": [
    {
     "data": {
      "text/plain": [
       "'A Light in the Attic'"
      ]
     },
     "execution_count": 27,
     "metadata": {},
     "output_type": "execute_result"
    }
   ],
   "source": [
    "scraped.find(\"article\", class_=\"product_pod\").h3.a[\"title\"]"
   ]
  },
  {
   "cell_type": "code",
   "execution_count": 37,
   "id": "79742942",
   "metadata": {},
   "outputs": [],
   "source": [
    "articles = scraped.find_all(\"article\", class_=\"product_pod\")"
   ]
  },
  {
   "cell_type": "code",
   "execution_count": 38,
   "id": "bc9004dd",
   "metadata": {},
   "outputs": [
    {
     "data": {
      "text/plain": [
       "bs4.element.ResultSet"
      ]
     },
     "execution_count": 38,
     "metadata": {},
     "output_type": "execute_result"
    }
   ],
   "source": [
    "type(articles)\n",
    "#\"a soup element that can be iterated\""
   ]
  },
  {
   "cell_type": "code",
   "execution_count": 39,
   "id": "2ede62b7",
   "metadata": {},
   "outputs": [
    {
     "name": "stdout",
     "output_type": "stream",
     "text": [
      "A Light in the Attic\n",
      "Tipping the Velvet\n",
      "Soumission\n",
      "Sharp Objects\n",
      "Sapiens: A Brief History of Humankind\n",
      "The Requiem Red\n",
      "The Dirty Little Secrets of Getting Your Dream Job\n",
      "The Coming Woman: A Novel Based on the Life of the Infamous Feminist, Victoria Woodhull\n",
      "The Boys in the Boat: Nine Americans and Their Epic Quest for Gold at the 1936 Berlin Olympics\n",
      "The Black Maria\n",
      "Starving Hearts (Triangular Trade Trilogy, #1)\n",
      "Shakespeare's Sonnets\n",
      "Set Me Free\n",
      "Scott Pilgrim's Precious Little Life (Scott Pilgrim #1)\n",
      "Rip it Up and Start Again\n",
      "Our Band Could Be Your Life: Scenes from the American Indie Underground, 1981-1991\n",
      "Olio\n",
      "Mesaerion: The Best Science Fiction Stories 1800-1849\n",
      "Libertarianism for Beginners\n",
      "It's Only the Himalayas\n"
     ]
    }
   ],
   "source": [
    "for article in articles:\n",
    "    print(article.h3.a[\"title\"])\n",
    "    "
   ]
  },
  {
   "cell_type": "code",
   "execution_count": 42,
   "id": "c99480d2",
   "metadata": {},
   "outputs": [],
   "source": [
    "prices = scraped.find_all(\"p\",class_=\"price_color\")"
   ]
  },
  {
   "cell_type": "code",
   "execution_count": 43,
   "id": "551be067",
   "metadata": {},
   "outputs": [
    {
     "data": {
      "text/plain": [
       "[<p class=\"price_color\">£51.77</p>,\n",
       " <p class=\"price_color\">£53.74</p>,\n",
       " <p class=\"price_color\">£50.10</p>,\n",
       " <p class=\"price_color\">£47.82</p>,\n",
       " <p class=\"price_color\">£54.23</p>,\n",
       " <p class=\"price_color\">£22.65</p>,\n",
       " <p class=\"price_color\">£33.34</p>,\n",
       " <p class=\"price_color\">£17.93</p>,\n",
       " <p class=\"price_color\">£22.60</p>,\n",
       " <p class=\"price_color\">£52.15</p>,\n",
       " <p class=\"price_color\">£13.99</p>,\n",
       " <p class=\"price_color\">£20.66</p>,\n",
       " <p class=\"price_color\">£17.46</p>,\n",
       " <p class=\"price_color\">£52.29</p>,\n",
       " <p class=\"price_color\">£35.02</p>,\n",
       " <p class=\"price_color\">£57.25</p>,\n",
       " <p class=\"price_color\">£23.88</p>,\n",
       " <p class=\"price_color\">£37.59</p>,\n",
       " <p class=\"price_color\">£51.33</p>,\n",
       " <p class=\"price_color\">£45.17</p>]"
      ]
     },
     "execution_count": 43,
     "metadata": {},
     "output_type": "execute_result"
    }
   ],
   "source": [
    "prices"
   ]
  },
  {
   "cell_type": "code",
   "execution_count": 44,
   "id": "7f309b69",
   "metadata": {},
   "outputs": [
    {
     "name": "stdout",
     "output_type": "stream",
     "text": [
      "£51.77\n",
      "£53.74\n",
      "£50.10\n",
      "£47.82\n",
      "£54.23\n",
      "£22.65\n",
      "£33.34\n",
      "£17.93\n",
      "£22.60\n",
      "£52.15\n",
      "£13.99\n",
      "£20.66\n",
      "£17.46\n",
      "£52.29\n",
      "£35.02\n",
      "£57.25\n",
      "£23.88\n",
      "£37.59\n",
      "£51.33\n",
      "£45.17\n"
     ]
    }
   ],
   "source": [
    "for price in prices:\n",
    "    print(price.text)"
   ]
  },
  {
   "cell_type": "code",
   "execution_count": 45,
   "id": "d3c7c877",
   "metadata": {},
   "outputs": [
    {
     "data": {
      "text/plain": [
       "str"
      ]
     },
     "execution_count": 45,
     "metadata": {},
     "output_type": "execute_result"
    }
   ],
   "source": [
    "type(price.text)"
   ]
  },
  {
   "cell_type": "code",
   "execution_count": 48,
   "id": "8b633aff",
   "metadata": {},
   "outputs": [
    {
     "ename": "SyntaxError",
     "evalue": "unexpected EOF while parsing (796031953.py, line 1)",
     "output_type": "error",
     "traceback": [
      "\u001b[1;36m  Cell \u001b[1;32mIn[48], line 1\u001b[1;36m\u001b[0m\n\u001b[1;33m    float(price.text.lstrip(\"£\")\u001b[0m\n\u001b[1;37m                                ^\u001b[0m\n\u001b[1;31mSyntaxError\u001b[0m\u001b[1;31m:\u001b[0m unexpected EOF while parsing\n"
     ]
    }
   ],
   "source": [
    "float(prices.text.lstrip(\"£\")"
   ]
  },
  {
   "cell_type": "code",
   "execution_count": 52,
   "id": "882008b6",
   "metadata": {},
   "outputs": [
    {
     "name": "stdout",
     "output_type": "stream",
     "text": [
      "51.77\n",
      "53.74\n",
      "50.1\n",
      "47.82\n",
      "54.23\n",
      "22.65\n",
      "33.34\n",
      "17.93\n",
      "22.6\n",
      "52.15\n",
      "13.99\n",
      "20.66\n",
      "17.46\n",
      "52.29\n",
      "35.02\n",
      "57.25\n",
      "23.88\n",
      "37.59\n",
      "51.33\n",
      "45.17\n"
     ]
    }
   ],
   "source": [
    "for price in prices:\n",
    "    price = float(price.text.lstrip(\"£\"))\n",
    "    print(price)"
   ]
  },
  {
   "cell_type": "code",
   "execution_count": 53,
   "id": "de6c2b3a",
   "metadata": {},
   "outputs": [
    {
     "data": {
      "text/plain": [
       "float"
      ]
     },
     "execution_count": 53,
     "metadata": {},
     "output_type": "execute_result"
    }
   ],
   "source": [
    "type(price)\n",
    "#can now use this data for calculation "
   ]
  },
  {
   "cell_type": "code",
   "execution_count": 54,
   "id": "965fa222",
   "metadata": {},
   "outputs": [
    {
     "name": "stdout",
     "output_type": "stream",
     "text": [
      "[{'A Light in the Attic': 51.77}, {'Tipping the Velvet': 53.74}, {'Soumission': 50.1}, {'Sharp Objects': 47.82}, {'Sapiens: A Brief History of Humankind': 54.23}, {'The Requiem Red': 22.65}, {'The Dirty Little Secrets of Getting Your Dream Job': 33.34}, {'The Coming Woman: A Novel Based on the Life of the Infamous Feminist, Victoria Woodhull': 17.93}, {'The Boys in the Boat: Nine Americans and Their Epic Quest for Gold at the 1936 Berlin Olympics': 22.6}, {'The Black Maria': 52.15}, {'Starving Hearts (Triangular Trade Trilogy, #1)': 13.99}, {\"Shakespeare's Sonnets\": 20.66}, {'Set Me Free': 17.46}, {\"Scott Pilgrim's Precious Little Life (Scott Pilgrim #1)\": 52.29}, {'Rip it Up and Start Again': 35.02}, {'Our Band Could Be Your Life: Scenes from the American Indie Underground, 1981-1991': 57.25}, {'Olio': 23.88}, {'Mesaerion: The Best Science Fiction Stories 1800-1849': 37.59}, {'Libertarianism for Beginners': 51.33}, {\"It's Only the Himalayas\": 45.17}]\n"
     ]
    }
   ],
   "source": [
    "results =[]\n",
    "for article in articles:\n",
    "    title = article.h3.a[\"title\"]\n",
    "    price = article.find(\"p\",class_=\"price_color\")\n",
    "    price = float(price.text.lstrip(\"£\"))\n",
    "    results.append({title : price})\n",
    "    \n",
    "print(results)"
   ]
  },
  {
   "cell_type": "code",
   "execution_count": null,
   "id": "8d654585",
   "metadata": {},
   "outputs": [],
   "source": []
  }
 ],
 "metadata": {
  "kernelspec": {
   "display_name": "Python 3 (ipykernel)",
   "language": "python",
   "name": "python3"
  },
  "language_info": {
   "codemirror_mode": {
    "name": "ipython",
    "version": 3
   },
   "file_extension": ".py",
   "mimetype": "text/x-python",
   "name": "python",
   "nbconvert_exporter": "python",
   "pygments_lexer": "ipython3",
   "version": "3.9.1"
  }
 },
 "nbformat": 4,
 "nbformat_minor": 5
}
